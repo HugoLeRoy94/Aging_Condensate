{
 "cells": [
  {
   "cell_type": "code",
   "execution_count": 2,
   "metadata": {},
   "outputs": [],
   "source": [
    "import numpy as np\n",
    "import matplotlib.pyplot as plt\n",
    "import sys\n",
    "sys.path.append('/home/hcleroy/PostDoc/Simulation/Aging_Condensates/System_backend/')\n",
    "import System_backend as backend"
   ]
  },
  {
   "cell_type": "markdown",
   "metadata": {},
   "source": [
    "## Simulate the system over time with reset-crosslinkers"
   ]
  },
  {
   "cell_type": "code",
   "execution_count": 23,
   "metadata": {},
   "outputs": [],
   "source": [
    "BindingEnergy = -100\n",
    "ell_tot = 50\n",
    "#distance_anchor = 1000.\n",
    "rho0 = 4*10**-4\n",
    "teq = 1000\n",
    "t_compute = 1000\n",
    "reset_linker_time = 1000 # number of time per simulation the crosslinkers are reset\n",
    "filename = 'res.npy'\n",
    "seed = 989875\n",
    "S = backend.System(ell_tot,rho0,BindingEnergy,seed=seed)"
   ]
  },
  {
   "cell_type": "code",
   "execution_count": 24,
   "metadata": {},
   "outputs": [
    {
     "data": {
      "text/plain": [
       "array([50.])"
      ]
     },
     "execution_count": 24,
     "metadata": {},
     "output_type": "execute_result"
    }
   ],
   "source": [
    "S.get_links_linear_position()"
   ]
  },
  {
   "cell_type": "code",
   "execution_count": 27,
   "metadata": {},
   "outputs": [
    {
     "ename": "IndexError",
     "evalue": "index 1000 is out of bounds for axis 0 with size 1000",
     "output_type": "error",
     "traceback": [
      "\u001b[0;31m---------------------------------------------------------------------------\u001b[0m",
      "\u001b[0;31mIndexError\u001b[0m                                Traceback (most recent call last)",
      "\u001b[1;32m/home/hcleroy/PostDoc/Simulation/Aging_Condensates/distribution_linkers_along_L/compute_distribution.ipynb Cell 5\u001b[0m in \u001b[0;36m<cell line: 4>\u001b[0;34m()\u001b[0m\n\u001b[1;32m      <a href='vscode-notebook-cell:/home/hcleroy/PostDoc/Simulation/Aging_Condensates/distribution_linkers_along_L/compute_distribution.ipynb#W3sZmlsZQ%3D%3D?line=3'>4</a>\u001b[0m \u001b[39mfor\u001b[39;00m step \u001b[39min\u001b[39;00m \u001b[39mrange\u001b[39m(tmax):\n\u001b[1;32m      <a href='vscode-notebook-cell:/home/hcleroy/PostDoc/Simulation/Aging_Condensates/distribution_linkers_along_L/compute_distribution.ipynb#W3sZmlsZQ%3D%3D?line=4'>5</a>\u001b[0m     \u001b[39mif\u001b[39;00m step\u001b[39m%\u001b[39m(tmax\u001b[39m/\u001b[39m\u001b[39m/\u001b[39mreset_linker_time)\u001b[39m==\u001b[39m\u001b[39m0\u001b[39m:\n\u001b[1;32m      <a href='vscode-notebook-cell:/home/hcleroy/PostDoc/Simulation/Aging_Condensates/distribution_linkers_along_L/compute_distribution.ipynb#W3sZmlsZQ%3D%3D?line=5'>6</a>\u001b[0m           \u001b[39m#print(step)\u001b[39;00m\n\u001b[0;32m----> <a href='vscode-notebook-cell:/home/hcleroy/PostDoc/Simulation/Aging_Condensates/distribution_linkers_along_L/compute_distribution.ipynb#W3sZmlsZQ%3D%3D?line=6'>7</a>\u001b[0m         Nloop[step\u001b[39m/\u001b[39m\u001b[39m/\u001b[39mreset_linker_time] \u001b[39m=\u001b[39m S\u001b[39m.\u001b[39mget_N_loop()\n\u001b[1;32m      <a href='vscode-notebook-cell:/home/hcleroy/PostDoc/Simulation/Aging_Condensates/distribution_linkers_along_L/compute_distribution.ipynb#W3sZmlsZQ%3D%3D?line=7'>8</a>\u001b[0m         S\u001b[39m.\u001b[39mreset_crosslinkers()\n\u001b[1;32m      <a href='vscode-notebook-cell:/home/hcleroy/PostDoc/Simulation/Aging_Condensates/distribution_linkers_along_L/compute_distribution.ipynb#W3sZmlsZQ%3D%3D?line=8'>9</a>\u001b[0m     S\u001b[39m.\u001b[39mevolve()\n",
      "\u001b[0;31mIndexError\u001b[0m: index 1000 is out of bounds for axis 0 with size 1000"
     ]
    }
   ],
   "source": [
    "position = list()\n",
    "tmax = 2000000\n",
    "Nloop = np.zeros(reset_linker_time,dtype= int)\n",
    "for step in range(tmax):\n",
    "    if step%(tmax//reset_linker_time)==0:\n",
    "          #print(step)\n",
    "        Nloop[step//reset_linker_time] = S.get_N_loop()\n",
    "        S.reset_crosslinkers()\n",
    "    S.evolve()\n",
    "    position.append(S.get_links_linear_position())"
   ]
  },
  {
   "cell_type": "code",
   "execution_count": 26,
   "metadata": {},
   "outputs": [
    {
     "data": {
      "text/plain": [
       "<matplotlib.collections.PathCollection at 0x7fd76e3b99d0>"
      ]
     },
     "execution_count": 26,
     "metadata": {},
     "output_type": "execute_result"
    },
    {
     "data": {
      "image/png": "[encoded data removed]",
      "text/plain": [
       "<Figure size 432x288 with 1 Axes>"
      ]
     },
     "metadata": {
      "needs_background": "light"
     },
     "output_type": "display_data"
    }
   ],
   "source": [
    "plt.scatter(position[1000],[1 for _ in range(position[1000].__len__())])\n",
    "plt.scatter(position[10000],[2 for _ in range(position[10000].__len__())])\n",
    "plt.scatter(position[100000],[3 for _ in range(position[100000].__len__())])\n",
    "plt.scatter(position[-1],[4 for _ in range(position[-1].__len__())])"
   ]
  },
  {
   "cell_type": "code",
   "execution_count": null,
   "metadata": {},
   "outputs": [],
   "source": [
    "plt.plot(np.arange(0,tmax,tmax//Nloop)"
   ]
  }
 ],
 "metadata": {
  "kernelspec": {
   "display_name": "Python 3.8.8 ('base')",
   "language": "python",
   "name": "python3"
  },
  "language_info": {
   "codemirror_mode": {
    "name": "ipython",
    "version": 3
   },
   "file_extension": ".py",
   "mimetype": "text/x-python",
   "name": "python",
   "nbconvert_exporter": "python",
   "pygments_lexer": "ipython3",
   "version": "3.8.8"
  },
  "orig_nbformat": 4,
  "vscode": {
   "interpreter": {
    "hash": "1d5eeb8876f044179b361bcddd340056e6c77a1f8539f3472ec98ae68ef2c035"
   }
  }
 },
 "nbformat": 4,
 "nbformat_minor": 2
}
