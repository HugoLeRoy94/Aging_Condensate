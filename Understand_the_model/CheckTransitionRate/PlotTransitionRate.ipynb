{
 "cells": [
  {
   "cell_type": "code",
   "execution_count": 3,
   "metadata": {},
   "outputs": [],
   "source": [
    "import numpy as np\n",
    "import matplotlib.pyplot as plt"
   ]
  },
  {
   "cell_type": "code",
   "execution_count": 4,
   "metadata": {},
   "outputs": [
    {
     "name": "stdout",
     "output_type": "stream",
     "text": [
      "[1 4 9]\n"
     ]
    }
   ],
   "source": [
    "A = np.array([1,2,3])\n",
    "print(A**2)"
   ]
  },
  {
   "cell_type": "code",
   "execution_count": 5,
   "metadata": {},
   "outputs": [],
   "source": [
    "Pi = np.arccos(-1)\n",
    "ell=100\n",
    "Rleft = np.array([0.,0.,0.])\n",
    "Rright = np.array([np.sqrt(ell/2),0.,0.])\n",
    "get_square_diff = lambda r1,r2 : np.sum((r1-r2)**2)\n",
    "unbound_term = 1.5 * get_square_diff(Rleft, Rright) / ell\n",
    "def transition_rate(Rleft,Rright,R,unbound_term,li):\n",
    "    return np.exp(1.5 * np.log(3 * ell / (2 * Pi * li * (ell - li))) - \n",
    "    1.5 * (get_square_diff(Rleft, R) / li + get_square_diff(R, Rright) / (ell - li)) + unbound_term)\n",
    "def transition_rate_l(li):\n",
    "    # integrate the transition rate over all the space in between the two linkers\n",
    "    # \n",
    "    #space = np.array([[x,y,z] for x in np.linspace(0,np.sqrt(ell/2),100) for y in np.linspace(-np.sqrt(ell/2),np.sqrt(ell/2),100) for z in )])\n",
    "    res = 0\n",
    "    dV = np.sqrt(ell/2)/100* 2* np.sqrt(ell/2)/100 *2* np.sqrt(ell/2)/100\n",
    "    for x in np.linspace(0,np.sqrt(ell/2),100,endpoint=False):\n",
    "        for y in np.linspace(-np.sqrt(ell/2),np.sqrt(ell/2),100,endpoint=False):\n",
    "            for z in np.linspace(-np.sqrt(ell/2),np.sqrt(ell/2),100,endpoint=False):\n",
    "                res += transition_rate(Rleft,Rright,np.array([x,y,z]),unbound_term,li)\n",
    "    return res"
   ]
  },
  {
   "cell_type": "code",
   "execution_count": 49,
   "metadata": {},
   "outputs": [
    {
     "name": "stderr",
     "output_type": "stream",
     "text": [
      "/tmp/ipykernel_22401/641853286.py:8: RuntimeWarning: divide by zero encountered in true_divide\n",
      "  return np.exp(1.5 * np.log(3 * ell / (2 * Pi * li * (ell - li))) -\n",
      "/tmp/ipykernel_22401/641853286.py:9: RuntimeWarning: divide by zero encountered in true_divide\n",
      "  1.5 * (get_square_diff(Rleft, R) / li + get_square_diff(R, Rright) / (ell - li)) + unbound_term)\n",
      "/tmp/ipykernel_22401/641853286.py:8: RuntimeWarning: invalid value encountered in subtract\n",
      "  return np.exp(1.5 * np.log(3 * ell / (2 * Pi * li * (ell - li))) -\n",
      "/tmp/ipykernel_22401/641853286.py:9: RuntimeWarning: invalid value encountered in true_divide\n",
      "  1.5 * (get_square_diff(Rleft, R) / li + get_square_diff(R, Rright) / (ell - li)) + unbound_term)\n"
     ]
    },
    {
     "data": {
      "text/plain": [
       "[<matplotlib.lines.Line2D at 0x7f7e5c347dc0>]"
      ]
     },
     "execution_count": 49,
     "metadata": {},
     "output_type": "execute_result"
    },
    {
     "data": {
      "image/png": "[encoded data removed]",
      "text/plain": [
       "<Figure size 432x288 with 1 Axes>"
      ]
     },
     "metadata": {
      "needs_background": "light"
     },
     "output_type": "display_data"
    }
   ],
   "source": [
    "X = np.linspace(0,ell,100)\n",
    "plt.plot(X,transition_rate_l(X))"
   ]
  },
  {
   "cell_type": "markdown",
   "metadata": {},
   "source": [
    "# redo the computation"
   ]
  },
  {
   "cell_type": "code",
   "execution_count": 6,
   "metadata": {},
   "outputs": [],
   "source": [
    "def Omega(r1mr2,l):\n",
    "    return (3/(2*Pi*l))**1.5*np.exp(-3/2*(np.linalg.norm(r1mr2)**2/l))\n",
    "def Pmeet(Rleft,Rright,r,l,L):\n",
    "    return np.exp(np.log(Omega(Rleft-r,l))+np.log(Omega(r-Rright,L-l))-np.log(Omega(Rleft-Rright,L)))\n",
    "def Pmeet(Rleft,Rright,r,l,L):\n",
    "    return (3/(2*Pi)*L/(l*(L-l)))**1.5 * np.exp(-1.5*(np.linalg.norm(Rleft-r)**2/l+np.linalg.norm(Rright-r)**2/(L-l)-np.linalg.norm(Rright-Rleft)**2/L))\n",
    "    np.exp(1.5 * np.log(3 * ell / (2 * Pi * li * (ell - li))) - \n",
    "    1.5 * (get_square_diff(Rleft, R) / li + get_square_diff(R, Rright) / (ell - li)) + unbound_term)\n",
    "def PmeetReduced(r,l):\n",
    "    L = 100\n",
    "    Rleft = np.array([0.,0.,0.])\n",
    "    Rright = np.array([7.,0.,0.])\n",
    "    return Pmeet(Rleft,Rright,r,l,L)\n",
    "def PmeetAlong(l):\n",
    "    L=100\n",
    "    Rleft = np.array([0.,0.,0.])\n",
    "    Rright = np.array([7.,0.,0.])\n",
    "    res = 0.\n",
    "    #for x in np.linspace(-L/2,7.+L/2,100):\n",
    "        #for y in np.linspace(-L/2,L/2,100):\n",
    "            #for z in np.linspace(-L/2,L/2,100):\n",
    "    for x in np.linspace(-np.sqrt(ell/2),np.sqrt(ell/2),100,endpoint=False):\n",
    "        #for y in np.linspace(-np.sqrt(ell/2),np.sqrt(ell/2),100,endpoint=False):\n",
    "            #for z in np.linspace(-np.sqrt(ell/2),np.sqrt(ell/2),100,endpoint=False):\n",
    "        res += Pmeet(Rleft,Rright,np.array([x,0,0]),l,L)\n",
    "    return res"
   ]
  },
  {
   "cell_type": "code",
   "execution_count": 8,
   "metadata": {},
   "outputs": [
    {
     "name": "stderr",
     "output_type": "stream",
     "text": [
      "/tmp/ipykernel_21906/2658774190.py:6: RuntimeWarning: divide by zero encountered in true_divide\n",
      "  return (3/(2*Pi)*L/(l*(L-l)))**1.5 * np.exp(-1.5*(np.linalg.norm(Rleft-r)**2/l+np.linalg.norm(Rright-r)**2/(L-l)-np.linalg.norm(Rright-Rleft)**2/L))\n",
      "/tmp/ipykernel_21906/2658774190.py:6: RuntimeWarning: invalid value encountered in multiply\n",
      "  return (3/(2*Pi)*L/(l*(L-l)))**1.5 * np.exp(-1.5*(np.linalg.norm(Rleft-r)**2/l+np.linalg.norm(Rright-r)**2/(L-l)-np.linalg.norm(Rright-Rleft)**2/L))\n",
      "/tmp/ipykernel_21906/2658774190.py:6: RuntimeWarning: invalid value encountered in true_divide\n",
      "  return (3/(2*Pi)*L/(l*(L-l)))**1.5 * np.exp(-1.5*(np.linalg.norm(Rleft-r)**2/l+np.linalg.norm(Rright-r)**2/(L-l)-np.linalg.norm(Rright-Rleft)**2/L))\n"
     ]
    }
   ],
   "source": [
    "X = np.linspace(0,100,100)\n",
    "PL = PmeetAlong(X)"
   ]
  },
  {
   "cell_type": "code",
   "execution_count": 9,
   "metadata": {},
   "outputs": [
    {
     "data": {
      "text/plain": [
       "[<matplotlib.lines.Line2D at 0x7f4dfa0154f0>]"
      ]
     },
     "execution_count": 9,
     "metadata": {},
     "output_type": "execute_result"
    },
    {
     "data": {
      "image/png": "[encoded data removed]",
      "text/plain": [
       "<Figure size 432x288 with 1 Axes>"
      ]
     },
     "metadata": {
      "needs_background": "light"
     },
     "output_type": "display_data"
    }
   ],
   "source": [
    "plt.plot(X,PL)"
   ]
  },
  {
   "cell_type": "code",
   "execution_count": null,
   "metadata": {},
   "outputs": [],
   "source": []
  }
 ],
 "metadata": {
  "kernelspec": {
   "display_name": "Python 3.8.8 ('base')",
   "language": "python",
   "name": "python3"
  },
  "language_info": {
   "codemirror_mode": {
    "name": "ipython",
    "version": 3
   },
   "file_extension": ".py",
   "mimetype": "text/x-python",
   "name": "python",
   "nbconvert_exporter": "python",
   "pygments_lexer": "ipython3",
   "version": "3.8.8 (default, Apr 13 2021, 19:58:26) \n[GCC 7.3.0]"
  },
  "orig_nbformat": 4,
  "vscode": {
   "interpreter": {
    "hash": "1d5eeb8876f044179b361bcddd340056e6c77a1f8539f3472ec98ae68ef2c035"
   }
  }
 },
 "nbformat": 4,
 "nbformat_minor": 2
}
