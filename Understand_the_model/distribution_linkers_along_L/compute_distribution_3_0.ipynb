{
 "cells": [
  {
   "cell_type": "code",
   "execution_count": 1,
   "metadata": {},
   "outputs": [],
   "source": [
    "import numpy as np\n",
    "import matplotlib.pyplot as plt\n",
    "import sys\n",
    "from rdfpy import rdf\n",
    "sys.path.append('/home/hcleroy/PostDoc/Simulation/Aging_Condensates/Gillespie_backend/')\n",
    "import Gillespie_backend as backend\n",
    "from multiprocessing import Pool"
   ]
  },
  {
   "cell_type": "code",
   "execution_count": 2,
   "metadata": {},
   "outputs": [],
   "source": [
    "def get_position(tmax,dtout,dtreset,S):\n",
    "  \"\"\"\n",
    "  return the linear position of the linkers every dT until tmax\n",
    "  \"\"\"\n",
    "  position = np.zeros((tmax//dtout)-1, dtype= object)\n",
    "  linkers = np.zeros((tmax//dtout)-1,dtype=object)\n",
    "  #Nloop = np.zeros(tmax//dt,dtype= int)\n",
    "  for step in range(tmax):\n",
    "      if step%dtout==0 and step!=0:\n",
    "          print(step)\n",
    "          #Nloop[step//dt] = S.get_N_loop()\n",
    "          position[step//dtout-1] = S.get_links_linear_position()\n",
    "          linkers[step//dtout-1] = S.get_R()\n",
    "      if step%dtreset == 0 and step!=0:\n",
    "          S.reset_crosslinkers()\n",
    "      S.evolve()\n",
    "  return position,linkers"
   ]
  },
  {
   "cell_type": "code",
   "execution_count": 4,
   "metadata": {},
   "outputs": [],
   "source": [
    "BindingEnergy = -10\n",
    "ell_tot = 1000\n",
    "#distance_anchor = 1000.\n",
    "rho0 = 5.*10**-4\n",
    "ttot = 10000\n",
    "teq = 1000\n",
    "t_compute = 1000\n",
    "reset_linker_time = ttot//10 # number of time per simulation the crosslinkers are reset\n",
    "seed = 9898654"
   ]
  },
  {
   "cell_type": "code",
   "execution_count": 5,
   "metadata": {},
   "outputs": [
    {
     "name": "stdout",
     "output_type": "stream",
     "text": [
      "1000\n",
      "2000\n",
      "3000\n",
      "4000\n",
      "5000\n",
      "6000\n",
      "7000\n",
      "8000\n",
      "9000\n",
      "1000\n",
      "2000\n",
      "3000\n",
      "4000\n",
      "5000\n",
      "6000\n",
      "7000\n",
      "8000\n",
      "9000\n"
     ]
    }
   ],
   "source": [
    "Sslide = backend.Gillespie(ell_tot,rho0,BindingEnergy,np.exp(BindingEnergy),seed,sliding=False)\n",
    "Snoslide = backend.Gillespie(ell_tot,rho0,BindingEnergy,np.exp(BindingEnergy),seed,sliding=False)\n",
    "position_slide,linkers_slide = get_position(ttot,t_compute,reset_linker_time,Sslide)\n",
    "position_noslide,linkers_noslide = get_position(ttot,t_compute,reset_linker_time,Snoslide)"
   ]
  },
  {
   "cell_type": "code",
   "execution_count": 6,
   "metadata": {},
   "outputs": [],
   "source": [
    "#for i in range(0,position.shape[0],10):\n",
    "#i=2\n",
    "#plt.scatter(position[i],[0 for _ in range(position[i].__len__())])\n",
    "#i=position.__len__()//2\n",
    "#plt.scatter(position[i],[1 for _ in range(position[i].__len__())])\n",
    "#i=-1\n",
    "#plt.scatter(position[i],[2 for _ in range(position[i].__len__())])\n",
    "#plt.show()"
   ]
  },
  {
   "attachments": {},
   "cell_type": "markdown",
   "metadata": {},
   "source": [
    "We now plot the length in a strand as a function of the distance between the two binding points. In theory (see notes : SlidingLinkers), we should observe a decreasing function of the distance between the binding point. In other words, the smaller the distance between linkers, the stronger is the force that absorbs polymer length."
   ]
  },
  {
   "cell_type": "code",
   "execution_count": 11,
   "metadata": {},
   "outputs": [],
   "source": [
    "# Extract the linkers position\n",
    "anchoring_distance_slide = list()\n",
    "for R1,R2 in zip(Sslide.get_R(),Sslide.get_R()[1:]):\n",
    "    anchoring_distance_slide.append(np.linalg.norm(R1-R2))\n",
    "anchoring_distance_slide= np.array(anchoring_distance_slide)\n",
    "# extract the length of the polymer between two linking point\n",
    "polymer_length_slide = list()\n",
    "for l1,l2 in zip(Sslide.get_ell_coordinates(),Sslide.get_ell_coordinates()[1:]):\n",
    "    polymer_length_slide.append(l2-l1)\n",
    "polymer_length_slide = np.array(polymer_length_slide)"
   ]
  },
  {
   "cell_type": "code",
   "execution_count": 12,
   "metadata": {},
   "outputs": [],
   "source": [
    "# Extract the linkers position\n",
    "anchoring_distance_noslide = list()\n",
    "for R1,R2 in zip(Snoslide.get_R(),Snoslide.get_R()[1:]):\n",
    "    anchoring_distance_noslide.append(np.linalg.norm(R1-R2))\n",
    "anchoring_distance_noslide= np.array(anchoring_distance_noslide)\n",
    "# extract the length of the polymer between two linking point\n",
    "polymer_length_noslide = list()\n",
    "for l1,l2 in zip(Snoslide.get_ell_coordinates(),Snoslide.get_ell_coordinates()[1:]):\n",
    "    polymer_length_noslide.append(l2-l1)\n",
    "polymer_length_noslide = np.array(polymer_length_noslide)"
   ]
  },
  {
   "cell_type": "code",
   "execution_count": 13,
   "metadata": {},
   "outputs": [
    {
     "name": "stdout",
     "output_type": "stream",
     "text": [
      "with sliding moves :\n",
      "(81,)\n",
      "(81,)\n",
      "without sliding moves :\n",
      "(94,)\n",
      "(94,)\n"
     ]
    }
   ],
   "source": [
    "print('with sliding moves :')\n",
    "print(polymer_length_slide.shape)\n",
    "print(anchoring_distance_slide.shape)\n",
    "print('without sliding moves :')\n",
    "print(polymer_length_noslide.shape)\n",
    "print(anchoring_distance_noslide.shape)"
   ]
  },
  {
   "cell_type": "code",
   "execution_count": 14,
   "metadata": {},
   "outputs": [
    {
     "data": {
      "text/plain": [
       "Text(0, 0.5, 'delta li')"
      ]
     },
     "execution_count": 14,
     "metadata": {},
     "output_type": "execute_result"
    },
    {
     "data": {
      "image/png": "[encoded data removed]",
      "text/plain": [
       "<Figure size 432x288 with 1 Axes>"
      ]
     },
     "metadata": {
      "needs_background": "light"
     },
     "output_type": "display_data"
    }
   ],
   "source": [
    "# plot li as a function of the anchoring distance\n",
    "plt.scatter(anchoring_distance_slide,polymer_length_slide,label='with sliding moves')\n",
    "plt.scatter(anchoring_distance_noslide,polymer_length_noslide,label='without sliding moves')\n",
    "plt.legend()\n",
    "plt.xlabel('anchoring distance : delta|ri|')\n",
    "plt.ylabel('delta li')"
   ]
  },
  {
   "cell_type": "code",
   "execution_count": 15,
   "metadata": {},
   "outputs": [
    {
     "ename": "NameError",
     "evalue": "name 'position' is not defined",
     "output_type": "error",
     "traceback": [
      "\u001b[0;31m---------------------------------------------------------------------------\u001b[0m",
      "\u001b[0;31mNameError\u001b[0m                                 Traceback (most recent call last)",
      "Cell \u001b[0;32mIn[15], line 1\u001b[0m\n\u001b[0;32m----> 1\u001b[0m Nloop \u001b[39m=\u001b[39m np\u001b[39m.\u001b[39marray([p\u001b[39m.\u001b[39m\u001b[39m__len__\u001b[39m() \u001b[39mfor\u001b[39;00m p \u001b[39min\u001b[39;00m position])\n\u001b[1;32m      2\u001b[0m plt\u001b[39m.\u001b[39mplot(np\u001b[39m.\u001b[39marange(\u001b[39m0\u001b[39m,Nloop\u001b[39m.\u001b[39m\u001b[39m__len__\u001b[39m(),\u001b[39m1\u001b[39m),Nloop)\n",
      "\u001b[0;31mNameError\u001b[0m: name 'position' is not defined"
     ]
    }
   ],
   "source": [
    "Nloop = np.array([p.__len__() for p in position])\n",
    "plt.plot(np.arange(0,Nloop.__len__(),1),Nloop)"
   ]
  },
  {
   "cell_type": "code",
   "execution_count": 10,
   "metadata": {},
   "outputs": [
    {
     "ename": "AssertionError",
     "evalue": "particles should be an array of shape N x d, where N is                      the number of particles and d is the number of dimensions.",
     "output_type": "error",
     "traceback": [
      "\u001b[0;31m---------------------------------------------------------------------------\u001b[0m",
      "\u001b[0;31mAssertionError\u001b[0m                            Traceback (most recent call last)",
      "\u001b[1;32m/home/hcleroy/PostDoc/Simulation/Aging_Condensates/distribution_linkers_along_L/compute_distribution_2_0.ipynb Cell 7\u001b[0m in \u001b[0;36m<cell line: 1>\u001b[0;34m()\u001b[0m\n\u001b[0;32m----> <a href='vscode-notebook-cell:/home/hcleroy/PostDoc/Simulation/Aging_Condensates/distribution_linkers_along_L/compute_distribution_2_0.ipynb#W6sZmlsZQ%3D%3D?line=0'>1</a>\u001b[0m g0,r0 \u001b[39m=\u001b[39m rdf(position[\u001b[39m0\u001b[39;49m],dr\u001b[39m=\u001b[39;49m\u001b[39m1\u001b[39;49m)\n\u001b[1;32m      <a href='vscode-notebook-cell:/home/hcleroy/PostDoc/Simulation/Aging_Condensates/distribution_linkers_along_L/compute_distribution_2_0.ipynb#W6sZmlsZQ%3D%3D?line=1'>2</a>\u001b[0m g1,r1 \u001b[39m=\u001b[39m rdf(position[position\u001b[39m.\u001b[39m\u001b[39m__len__\u001b[39m()\u001b[39m/\u001b[39m\u001b[39m/\u001b[39m\u001b[39m2\u001b[39m],dr\u001b[39m=\u001b[39m\u001b[39m1\u001b[39m)\n\u001b[1;32m      <a href='vscode-notebook-cell:/home/hcleroy/PostDoc/Simulation/Aging_Condensates/distribution_linkers_along_L/compute_distribution_2_0.ipynb#W6sZmlsZQ%3D%3D?line=2'>3</a>\u001b[0m g2,r2 \u001b[39m=\u001b[39m rdf(position[\u001b[39m-\u001b[39m\u001b[39m1\u001b[39m],dr\u001b[39m=\u001b[39m\u001b[39m1\u001b[39m)\n",
      "File \u001b[0;32m~/anaconda3/lib/python3.8/site-packages/rdfpy/rdfpy.py:78\u001b[0m, in \u001b[0;36mrdf\u001b[0;34m(particles, dr, rho, rcutoff, eps, parallel, progress)\u001b[0m\n\u001b[1;32m     75\u001b[0m \u001b[39m# assert particles array is correct shape\u001b[39;00m\n\u001b[1;32m     76\u001b[0m shape_err_msg \u001b[39m=\u001b[39m \u001b[39m'\u001b[39m\u001b[39mparticles should be an array of shape N x d, where N is \u001b[39m\u001b[39m\\\u001b[39;00m\n\u001b[1;32m     77\u001b[0m \u001b[39m                 the number of particles and d is the number of dimensions.\u001b[39m\u001b[39m'\u001b[39m\n\u001b[0;32m---> 78\u001b[0m \u001b[39massert\u001b[39;00m \u001b[39mlen\u001b[39m(particles\u001b[39m.\u001b[39mshape) \u001b[39m==\u001b[39m \u001b[39m2\u001b[39m, shape_err_msg\n\u001b[1;32m     79\u001b[0m \u001b[39m# assert particle coords are 2 or 3 dimensional\u001b[39;00m\n\u001b[1;32m     80\u001b[0m \u001b[39massert\u001b[39;00m particles\u001b[39m.\u001b[39mshape[\u001b[39m-\u001b[39m\u001b[39m1\u001b[39m] \u001b[39min\u001b[39;00m [\u001b[39m2\u001b[39m, \u001b[39m3\u001b[39m], \u001b[39m'\u001b[39m\u001b[39mRDF can only be computed in 2 or 3 \u001b[39m\u001b[39m\\\u001b[39;00m\n\u001b[1;32m     81\u001b[0m \u001b[39m                                       dimensions.\u001b[39m\u001b[39m'\u001b[39m\n",
      "\u001b[0;31mAssertionError\u001b[0m: particles should be an array of shape N x d, where N is                      the number of particles and d is the number of dimensions."
     ]
    }
   ],
   "source": [
    "g0,r0 = rdf(position[0],dr=1)\n",
    "g1,r1 = rdf(position[position.__len__()//2],dr=1)\n",
    "g2,r2 = rdf(position[-1],dr=1)\n",
    "plt.scatter(r0[1:],g0[1:],label='steps ')\n",
    "plt.scatter(r1[1:],g1[1:])\n",
    "plt.scatter(r2[1:],g2[1:])"
   ]
  },
  {
   "cell_type": "code",
   "execution_count": 12,
   "metadata": {},
   "outputs": [
    {
     "name": "stderr",
     "output_type": "stream",
     "text": [
      "/home/hcleroy/anaconda3/lib/python3.8/site-packages/rdfpy/rdfpy.py:27: RuntimeWarning: invalid value encountered in double_scalars\n",
      "  g_r_partial[r_idx] /= n_valid*shell_vol*rho\n",
      "/home/hcleroy/anaconda3/lib/python3.8/site-packages/rdfpy/rdfpy.py:27: RuntimeWarning: invalid value encountered in double_scalars\n",
      "  g_r_partial[r_idx] /= n_valid*shell_vol*rho\n"
     ]
    },
    {
     "data": {
      "text/plain": [
       "<matplotlib.collections.PathCollection at 0x7fbae8c3a3a0>"
      ]
     },
     "execution_count": 12,
     "metadata": {},
     "output_type": "execute_result"
    },
    {
     "data": {
      "image/png": "[encoded data removed]",
      "text/plain": [
       "<Figure size 432x288 with 1 Axes>"
      ]
     },
     "metadata": {
      "needs_background": "light"
     },
     "output_type": "display_data"
    }
   ],
   "source": [
    "g0,r0 = rdf(linkers[0],dr=5)\n",
    "g1,r1 = rdf(linkers[linkers.__len__()//2],dr=5)\n",
    "g2,r2 = rdf(linkers[-1],dr=5)\n",
    "plt.scatter(r0[1:],g0[1:],label='steps ')\n",
    "plt.scatter(r1[1:],g1[1:])\n",
    "plt.scatter(r2[1:],g2[1:])"
   ]
  },
  {
   "cell_type": "code",
   "execution_count": 11,
   "metadata": {},
   "outputs": [],
   "source": [
    "S = backend.Gillespie(100,rho0,BindingEnergy,seed)"
   ]
  },
  {
   "cell_type": "code",
   "execution_count": 12,
   "metadata": {},
   "outputs": [
    {
     "data": {
      "text/plain": [
       "<matplotlib.collections.PathCollection at 0x7fc604bb18b0>"
      ]
     },
     "execution_count": 12,
     "metadata": {},
     "output_type": "execute_result"
    },
    {
     "data": {
      "image/png": "[encoded data removed]",
      "text/plain": [
       "<Figure size 432x288 with 1 Axes>"
      ]
     },
     "metadata": {
      "needs_background": "light"
     },
     "output_type": "display_data"
    }
   ],
   "source": [
    "plt.scatter(S.get_r()[:,0],S.get_r()[:,1])"
   ]
  },
  {
   "cell_type": "code",
   "execution_count": 13,
   "metadata": {},
   "outputs": [],
   "source": [
    "g_r, radii = rdf(S.get_r(), dr=1.)"
   ]
  },
  {
   "cell_type": "code",
   "execution_count": 14,
   "metadata": {},
   "outputs": [
    {
     "data": {
      "text/plain": [
       "<matplotlib.collections.PathCollection at 0x7fc6053a10d0>"
      ]
     },
     "execution_count": 14,
     "metadata": {},
     "output_type": "execute_result"
    },
    {
     "data": {
      "image/png": "[encoded data removed]",
      "text/plain": [
       "<Figure size 432x288 with 1 Axes>"
      ]
     },
     "metadata": {
      "needs_background": "light"
     },
     "output_type": "display_data"
    }
   ],
   "source": [
    "plt.scatter(radii[1:],g_r[1:])"
   ]
  },
  {
   "cell_type": "code",
   "execution_count": 11,
   "metadata": {},
   "outputs": [
    {
     "data": {
      "text/plain": [
       "<matplotlib.collections.PathCollection at 0x7eff898e7b80>"
      ]
     },
     "execution_count": 11,
     "metadata": {},
     "output_type": "execute_result"
    },
    {
     "data": {
      "image/png": "[encoded data removed]",
      "text/plain": [
       "<Figure size 432x288 with 1 Axes>"
      ]
     },
     "metadata": {
      "needs_background": "light"
     },
     "output_type": "display_data"
    }
   ],
   "source": [
    "\n",
    "g0,r0 = S.compute_correlation_function(S.get_r(),distmax=20)\n",
    "\n",
    "plt.scatter(r0[1:],g0[1:])"
   ]
  },
  {
   "cell_type": "code",
   "execution_count": 12,
   "metadata": {},
   "outputs": [],
   "source": [
    "bind,time = S.evolve(steps=100)"
   ]
  },
  {
   "cell_type": "code",
   "execution_count": 13,
   "metadata": {},
   "outputs": [
    {
     "data": {
      "text/plain": [
       "<matplotlib.collections.PathCollection at 0x7eff89862a90>"
      ]
     },
     "execution_count": 13,
     "metadata": {},
     "output_type": "execute_result"
    },
    {
     "data": {
      "image/png": "[encoded data removed]",
      "text/plain": [
       "<Figure size 432x288 with 1 Axes>"
      ]
     },
     "metadata": {
      "needs_background": "light"
     },
     "output_type": "display_data"
    }
   ],
   "source": [
    "\n",
    "g0,r0 = S.compute_correlation_function(S.get_r(),distmax=20)\n",
    "\n",
    "plt.scatter(r0[1:],g0[1:])"
   ]
  },
  {
   "cell_type": "code",
   "execution_count": 15,
   "metadata": {},
   "outputs": [
    {
     "data": {
      "text/plain": [
       "<matplotlib.collections.PathCollection at 0x7eff897bb1c0>"
      ]
     },
     "execution_count": 15,
     "metadata": {},
     "output_type": "execute_result"
    },
    {
     "data": {
      "image/png": "[encoded data removed]",
      "text/plain": [
       "<Figure size 432x288 with 1 Axes>"
      ]
     },
     "metadata": {
      "needs_background": "light"
     },
     "output_type": "display_data"
    }
   ],
   "source": [
    "g0,r0 = S.compute_correlation_function(S.get_links_linear_position(),distmax=20,bins=20)\n",
    "plt.scatter(r0[1:],g0[1:])"
   ]
  },
  {
   "cell_type": "code",
   "execution_count": null,
   "metadata": {},
   "outputs": [],
   "source": []
  }
 ],
 "metadata": {
  "kernelspec": {
   "display_name": "Python 3.8.8 ('base')",
   "language": "python",
   "name": "python3"
  },
  "language_info": {
   "codemirror_mode": {
    "name": "ipython",
    "version": 3
   },
   "file_extension": ".py",
   "mimetype": "text/x-python",
   "name": "python",
   "nbconvert_exporter": "python",
   "pygments_lexer": "ipython3",
   "version": "3.8.8 (default, Apr 13 2021, 19:58:26) \n[GCC 7.3.0]"
  },
  "orig_nbformat": 4,
  "vscode": {
   "interpreter": {
    "hash": "1d5eeb8876f044179b361bcddd340056e6c77a1f8539f3472ec98ae68ef2c035"
   }
  }
 },
 "nbformat": 4,
 "nbformat_minor": 2
}
