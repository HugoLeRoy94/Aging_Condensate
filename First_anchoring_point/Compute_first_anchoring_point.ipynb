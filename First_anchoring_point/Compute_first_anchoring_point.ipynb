{
 "cells": [
  {
   "cell_type": "code",
   "execution_count": 2,
   "metadata": {},
   "outputs": [],
   "source": [
    "import numpy as np\n",
    "import sys\n",
    "import matplotlib.pyplot as plt\n",
    "import tqdm\n",
    "sys.path.append('/home/hcleroy/PostDoc/Simulation/Aging_Condensates/System_backend/')\n",
    "import System_backend as backend"
   ]
  },
  {
   "cell_type": "code",
   "execution_count": null,
   "metadata": {},
   "outputs": [],
   "source": [
    "ell_tot = 200.\n",
    "rho0 = 0.001\n",
    "teq = 100\n",
    "\n",
    "Nstat = 1000"
   ]
  },
  {
   "cell_type": "code",
   "execution_count": 4,
   "metadata": {},
   "outputs": [
    {
     "name": "stderr",
     "output_type": "stream",
     "text": [
      " 89%|████████▉ | 8/9 [00:49<00:09,  9.38s/it]"
     ]
    },
    {
     "ename": "",
     "evalue": "",
     "output_type": "error",
     "traceback": [
      "\u001b[1;31mThe Kernel crashed while executing code in the the current cell or a previous cell. Please review the code in the cell(s) to identify a possible cause of the failure. Click <a href='https://aka.ms/vscodeJupyterKernelCrash'>here</a> for more info. View Jupyter <a href='command:jupyter.viewOutput'>log</a> for further details."
     ]
    },
    {
     "ename": "",
     "evalue": "",
     "output_type": "error",
     "traceback": [
      "\u001b[1;31mCanceled future for execute_request message before replies were done"
     ]
    }
   ],
   "source": [
    "mean_distances = list()\n",
    "for ell_tot in tqdm.tqdm(range(100,1000,100)):\n",
    "    rho0 = 0.1/ell_tot\n",
    "    distances = np.zeros(Nstat,dtype=float)\n",
    "    for i in range(Nstat):\n",
    "        S = backend.System(ell_tot,rho0,0.,seed=np.random.randint(100000))\n",
    "        S.evolve()\n",
    "        distances[i] = np.linalg.norm(S.get_R())\n",
    "    mean_distances.append([ell_tot,np.mean(distances)])"
   ]
  },
  {
   "cell_type": "code",
   "execution_count": null,
   "metadata": {},
   "outputs": [
    {
     "data": {
      "text/plain": [
       "(array([ 69., 183., 227., 207., 144.,  92.,  45.,  26.,   6.,   1.]),\n",
       " array([ 0.65385956,  3.48791208,  6.32196459,  9.15601711, 11.99006962,\n",
       "        14.82412214, 17.65817465, 20.49222717, 23.32627968, 26.16033219,\n",
       "        28.99438471]),\n",
       " <BarContainer object of 10 artists>)"
      ]
     },
     "execution_count": 20,
     "metadata": {},
     "output_type": "execute_result"
    },
    {
     "data": {
      "image/png": "[encoded data removed]",
      "text/plain": [
       "<Figure size 432x288 with 1 Axes>"
      ]
     },
     "metadata": {
      "needs_background": "light"
     },
     "output_type": "display_data"
    }
   ],
   "source": [
    "mean_distances = np.array(mean_distances)"
   ]
  },
  {
   "cell_type": "code",
   "execution_count": null,
   "metadata": {},
   "outputs": [
    {
     "name": "stdout",
     "output_type": "stream",
     "text": [
      "9.986521119395224\n",
      "10.0\n"
     ]
    }
   ],
   "source": [
    "plt.plot(np.sqrt(mean_distances[:,0]/2),mean_distances[:,1])"
   ]
  },
  {
   "cell_type": "code",
   "execution_count": null,
   "metadata": {},
   "outputs": [],
   "source": []
  }
 ],
 "metadata": {
  "kernelspec": {
   "display_name": "Python 3.8.8 ('base')",
   "language": "python",
   "name": "python3"
  },
  "language_info": {
   "codemirror_mode": {
    "name": "ipython",
    "version": 3
   },
   "file_extension": ".py",
   "mimetype": "text/x-python",
   "name": "python",
   "nbconvert_exporter": "python",
   "pygments_lexer": "ipython3",
   "version": "3.8.8"
  },
  "orig_nbformat": 4,
  "vscode": {
   "interpreter": {
    "hash": "1d5eeb8876f044179b361bcddd340056e6c77a1f8539f3472ec98ae68ef2c035"
   }
  }
 },
 "nbformat": 4,
 "nbformat_minor": 2
}
