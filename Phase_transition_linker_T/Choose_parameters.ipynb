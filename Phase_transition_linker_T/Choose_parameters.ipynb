{
 "cells": [
  {
   "cell_type": "code",
   "execution_count": 3,
   "metadata": {},
   "outputs": [],
   "source": [
    "import numpy as np\n",
    "import sys\n",
    "import matplotlib.pyplot as plt\n",
    "sys.path.append('/home/hcleroy/PostDoc/Simulation/Aging_Condensates/Gillespie_backend/')\n",
    "import Gillespie_backend as backend\n",
    "from multiprocessing import Pool"
   ]
  },
  {
   "cell_type": "code",
   "execution_count": 7,
   "metadata": {},
   "outputs": [],
   "source": [
    "ell_tot = 100\n",
    "#distance_anchor = 1000.\n",
    "rho0 = 5.*10**-4\n",
    "tmax = 10000"
   ]
  },
  {
   "cell_type": "code",
   "execution_count": 12,
   "metadata": {},
   "outputs": [
    {
     "name": "stdout",
     "output_type": "stream",
     "text": [
      "0\n",
      "1000\n",
      "2000\n",
      "3000\n",
      "4000\n",
      "5000\n",
      "6000\n",
      "7000\n",
      "8000\n",
      "9000\n",
      "\n"
     ]
    }
   ],
   "source": [
    "S = backend.Gillespie(ell_tot,rho0,-10,seed=np.random.randint(100000))\n",
    "Nloop = np.zeros(tmax,dtype=float)\n",
    "for t in range(tmax):\n",
    "    if t%1000==0:\n",
    "        print(t)\n",
    "        S.reset_crosslinkers()\n",
    "    S.evolve()\n",
    "    Nloop[t] = S.get_N_loop()/ell_tot\n",
    "print()"
   ]
  },
  {
   "cell_type": "code",
   "execution_count": 13,
   "metadata": {},
   "outputs": [
    {
     "data": {
      "text/plain": [
       "[<matplotlib.lines.Line2D at 0x7f7af6382a60>]"
      ]
     },
     "execution_count": 13,
     "metadata": {},
     "output_type": "execute_result"
    },
    {
     "data": {
      "image/png": "[encoded data removed]",
      "text/plain": [
       "<Figure size 432x288 with 1 Axes>"
      ]
     },
     "metadata": {
      "needs_background": "light"
     },
     "output_type": "display_data"
    }
   ],
   "source": [
    "plt.plot(np.arange(0,tmax,1.),Nloop)"
   ]
  },
  {
   "cell_type": "code",
   "execution_count": null,
   "metadata": {},
   "outputs": [],
   "source": [
    "Emin,Emax = -6.,-2\n",
    "Npoints = 10\n",
    "ell_tot = 600\n",
    "#distance_anchor = 1000.\n",
    "rho0 = 5.*10**-4\n",
    "teq = 30000\n",
    "t_compute = 200000\n",
    "\n",
    "\n",
    "def get_N(BindingEnergy):\n",
    "    S = backend.Gillespie(ell_tot,rho0,BindingEnergy,seed=np.random.randint(100000))\n",
    "    for t in range(teq):\n",
    "        if t%(t_compute//10)==0 and t!=0:\n",
    "            S.reset_crosslinkers()\n",
    "        S.evolve()\n",
    "        Nav = 0\n",
    "    ttot = 0\n",
    "    print('process : '+\"{:.2f}\".format(BindingEnergy)+' equilibration over')\n",
    "    for t in range(t_compute):\n",
    "        if t%(t_compute//10)==0:\n",
    "            print('process : '+\"{:.2f}\".format(BindingEnergy)+' time : '+str(t))\n",
    "            S.reset_crosslinkers()\n",
    "        Nloop = S.get_N_loop()\n",
    "        bind,dt = S.evolve()\n",
    "        Nav += Nloop*dt\n",
    "        ttot+=dt\n",
    "    return Nav/ttot"
   ]
  }
 ],
 "metadata": {
  "kernelspec": {
   "display_name": "Python 3.8.8 ('base')",
   "language": "python",
   "name": "python3"
  },
  "language_info": {
   "codemirror_mode": {
    "name": "ipython",
    "version": 3
   },
   "file_extension": ".py",
   "mimetype": "text/x-python",
   "name": "python",
   "nbconvert_exporter": "python",
   "pygments_lexer": "ipython3",
   "version": "3.8.8"
  },
  "orig_nbformat": 4,
  "vscode": {
   "interpreter": {
    "hash": "1d5eeb8876f044179b361bcddd340056e6c77a1f8539f3472ec98ae68ef2c035"
   }
  }
 },
 "nbformat": 4,
 "nbformat_minor": 2
}
