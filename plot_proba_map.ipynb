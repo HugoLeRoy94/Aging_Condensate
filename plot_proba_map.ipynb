{
 "cells": [
  {
   "cell_type": "code",
   "execution_count": 1,
   "id": "45fdf687-240c-4b7f-8521-4a0461659a3b",
   "metadata": {},
   "outputs": [],
   "source": [
    "import numpy as np\n",
    "from numpy.linalg import norm\n",
    "import matplotlib.pyplot as plt\n",
    "from scipy import integrate\n",
    "import matplotlib.colors as mcolors\n",
    "from tqdm import tqdm"
   ]
  },
  {
   "cell_type": "code",
   "execution_count": 8,
   "id": "d0965d47-b4a2-4d30-9eff-11a7f39c3ae5",
   "metadata": {},
   "outputs": [],
   "source": [
    "Pi = np.arccos(-1)\n",
    "def omega(n,r,N,R,a):\n",
    "    return (1.5*Pi*a**2)**3*n**1.5*(N-n)**1.5*np.exp(-3/(2*a**2)*((r[0]**2+r[1]**2)/n+((R[0]-r[0])**2+(R[1]-r[1])**2)/(N-n)))\n",
    "def Omega(r,N,R,a):\n",
    "    if norm(r) + norm(R-r)>N*a:\n",
    "        return 0.\n",
    "    nmin = int(norm(r)/a)\n",
    "    nmax = int(N-norm(R-r)/a)\n",
    "    return sum([omega(n,r,N,R,a) for n in range(nmin,nmax)])"
   ]
  },
  {
   "cell_type": "code",
   "execution_count": 50,
   "id": "f31dd149-eae8-4ea3-bc06-b7a63012d699",
   "metadata": {},
   "outputs": [],
   "source": [
    "a = 1\n",
    "N = 100\n",
    "R = np.array([0,50])\n",
    "X,Y = np.linspace(-25,75,100),np.linspace(-50,50,100)\n",
    "dx,dy = X[1]-X[0],Y[1]-Y[0]"
   ]
  },
  {
   "cell_type": "code",
   "execution_count": 51,
   "id": "cd593bd3-c46d-49b6-aeee-04c34053c501",
   "metadata": {},
   "outputs": [
    {
     "name": "stderr",
     "output_type": "stream",
     "text": [
      "23it [00:00, 43.32it/s]<ipython-input-8-2f0f62c8a98b>:3: RuntimeWarning: divide by zero encountered in double_scalars\n",
      "  return (1.5*Pi*a**2)**3*n**1.5*(N-n)**1.5*np.exp(-3/(2*a**2)*((r[0]**2+r[1]**2)/n+((R[0]-r[0])**2+(R[1]-r[1])**2)/(N-n)))\n",
      "100it [00:01, 79.28it/s]\n"
     ]
    }
   ],
   "source": [
    "Color = np.zeros((X.shape[0],Y.shape[0]),dtype=float)\n",
    "for i,x in tqdm(enumerate(X)):\n",
    "    for j,y in enumerate(Y):\n",
    "        xy = np.array([x,y])\n",
    "        Color[i,j] = Omega(xy,N,R,a)*dx*dy"
   ]
  },
  {
   "cell_type": "code",
   "execution_count": 52,
   "id": "f5993242-92da-487f-9585-016b90dd06ea",
   "metadata": {},
   "outputs": [],
   "source": [
    "X,Y = np.meshgrid(X,Y)"
   ]
  },
  {
   "cell_type": "code",
   "execution_count": 53,
   "id": "219f218f-fa91-4fd7-bfe9-1d2a6242dee9",
   "metadata": {},
   "outputs": [
    {
     "name": "stderr",
     "output_type": "stream",
     "text": [
      "<ipython-input-53-c95673da10bd>:1: RuntimeWarning: invalid value encountered in true_divide\n",
      "  Color = Color/sum(Color)\n"
     ]
    }
   ],
   "source": [
    "Color = Color/sum(Color)"
   ]
  },
  {
   "cell_type": "code",
   "execution_count": 54,
   "id": "cef47b38-d9ec-4b9b-a45b-ad8aa4ab49ad",
   "metadata": {},
   "outputs": [
    {
     "name": "stderr",
     "output_type": "stream",
     "text": [
      "<ipython-input-54-1bba7ed46c18>:2: MatplotlibDeprecationWarning: shading='flat' when X and Y have the same dimensions as C is deprecated since 3.3.  Either specify the corners of the quadrilaterals with X and Y, or pass shading='auto', 'nearest' or 'gouraud', or set rcParams['pcolor.shading'].  This will become an error two minor releases later.\n",
      "  ax.pcolormesh(X,Y,Color,norm=mcolors.LogNorm())\n"
     ]
    },
    {
     "data": {
      "text/plain": [
       "<matplotlib.collections.QuadMesh at 0x7f9f082ec7c0>"
      ]
     },
     "execution_count": 54,
     "metadata": {},
     "output_type": "execute_result"
    },
    {
     "data": {
      "image/png": "[encoded data removed]",
      "text/plain": [
       "<Figure size 576x360 with 1 Axes>"
      ]
     },
     "metadata": {
      "needs_background": "light"
     },
     "output_type": "display_data"
    }
   ],
   "source": [
    "fig,ax = plt.subplots(figsize=(8,5))\n",
    "ax.pcolormesh(X,Y,Color,norm=mcolors.LogNorm())"
   ]
  },
  {
   "cell_type": "code",
   "execution_count": null,
   "id": "54d9b121-2abe-425d-bede-f95bcd1adb8e",
   "metadata": {},
   "outputs": [],
   "source": []
  }
 ],
 "metadata": {
  "kernelspec": {
   "display_name": "Python 3",
   "language": "python",
   "name": "python3"
  },
  "language_info": {
   "codemirror_mode": {
    "name": "ipython",
    "version": 3
   },
   "file_extension": ".py",
   "mimetype": "text/x-python",
   "name": "python",
   "nbconvert_exporter": "python",
   "pygments_lexer": "ipython3",
   "version": "3.8.8"
  }
 },
 "nbformat": 4,
 "nbformat_minor": 5
}
