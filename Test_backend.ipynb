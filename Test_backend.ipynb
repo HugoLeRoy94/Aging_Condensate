{
 "cells": [
  {
   "cell_type": "code",
   "execution_count": 1,
   "id": "f1299a0d-eb4a-4429-acf1-f374c4702ee0",
   "metadata": {},
   "outputs": [],
   "source": [
    "import numpy as np\n",
    "from System_backend import *"
   ]
  },
  {
   "cell_type": "code",
   "execution_count": 2,
   "id": "5509049e-8c97-4e53-9573-fadc07a09408",
   "metadata": {},
   "outputs": [],
   "source": [
    "ell_tot = 100.\n",
    "distance_anchor = 50.\n",
    "rho0 = 0.1\n",
    "temperature = 0.1"
   ]
  },
  {
   "cell_type": "code",
   "execution_count": 3,
   "id": "c2ef01e7-5900-487d-99ca-9e53b2fc706d",
   "metadata": {},
   "outputs": [],
   "source": [
    "S = System(ell_tot,distance_anchor,rho0,temperature)"
   ]
  },
  {
   "cell_type": "code",
   "execution_count": 5,
   "id": "e9fd2a76-0762-4a48-b5b7-797e60e8fb2f",
   "metadata": {},
   "outputs": [],
   "source": [
    "R = S.get_R()"
   ]
  },
  {
   "cell_type": "code",
   "execution_count": 6,
   "id": "2efe98c4-8037-4845-a7dc-3fd0501a3bb4",
   "metadata": {},
   "outputs": [
    {
     "data": {
      "text/plain": [
       "array([50.,  0.,  0.])"
      ]
     },
     "execution_count": 6,
     "metadata": {},
     "output_type": "execute_result"
    }
   ],
   "source": [
    "np.reshape(R)"
   ]
  },
  {
   "cell_type": "code",
   "execution_count": null,
   "id": "266a5525-251a-4128-81b5-e5a81cec8fef",
   "metadata": {},
   "outputs": [],
   "source": []
  }
 ],
 "metadata": {
  "kernelspec": {
   "display_name": "Python 3 (ipykernel)",
   "language": "python",
   "name": "python3"
  },
  "language_info": {
   "codemirror_mode": {
    "name": "ipython",
    "version": 3
   },
   "file_extension": ".py",
   "mimetype": "text/x-python",
   "name": "python",
   "nbconvert_exporter": "python",
   "pygments_lexer": "ipython3",
   "version": "3.8.8"
  }
 },
 "nbformat": 4,
 "nbformat_minor": 5
}
