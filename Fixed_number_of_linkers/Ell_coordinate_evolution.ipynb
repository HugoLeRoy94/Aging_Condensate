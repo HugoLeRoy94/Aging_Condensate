{
 "cells": [
  {
   "cell_type": "code",
   "execution_count": 1,
   "metadata": {},
   "outputs": [],
   "source": [
    "import numpy as np\n",
    "import matplotlib.pyplot as plt\n",
    "import sys\n",
    "from tabulate import tabulate\n",
    "from multiprocessing import Pool\n",
    "from scipy.ndimage import uniform_filter1d\n",
    "\n",
    "# import the C++ module\n",
    "sys.path.append('/home/hcleroy/PostDoc/aging_condensates/Simulation/Gillespie/Gillespie_backend')\n",
    "import Gillespie_backend as backend\n",
    "import Simulate_Gillespie as SimSys\n",
    "\n",
    "sys.path.append('/home/hcleroy/PostDoc/aging_condensates/Simulation/super_simple_simulation/')\n",
    "\n",
    "import Super_Simple_Gillespie as SSSys\n",
    "import Super_Simple_Stochastic_Matrix as SSSMatrix\n"
   ]
  },
  {
   "cell_type": "code",
   "execution_count": 3,
   "metadata": {},
   "outputs": [],
   "source": [
    "# define the unit of the gillespie :\n",
    "R = 50\n",
    "L = 100\n",
    "Eb = -10.\n",
    "kdiff = 0.000207352\n",
    "size = 100\n",
    "dangling = True"
   ]
  },
  {
   "cell_type": "code",
   "execution_count": null,
   "metadata": {},
   "outputs": [],
   "source": []
  }
 ],
 "metadata": {
  "kernelspec": {
   "display_name": "base",
   "language": "python",
   "name": "python3"
  },
  "language_info": {
   "codemirror_mode": {
    "name": "ipython",
    "version": 3
   },
   "file_extension": ".py",
   "mimetype": "text/x-python",
   "name": "python",
   "nbconvert_exporter": "python",
   "pygments_lexer": "ipython3",
   "version": "3.8.8"
  },
  "orig_nbformat": 4,
  "vscode": {
   "interpreter": {
    "hash": "e6364083f9be986069f114f9a103f91518cea9154773b5e0908e7861a01b50e5"
   }
  }
 },
 "nbformat": 4,
 "nbformat_minor": 2
}
