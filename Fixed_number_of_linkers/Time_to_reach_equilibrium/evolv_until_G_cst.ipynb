{
 "cells": [
  {
   "cell_type": "code",
   "execution_count": 1,
   "metadata": {},
   "outputs": [],
   "source": [
    "import numpy as np\n",
    "import matplotlib.pyplot as plt\n",
    "import sys\n",
    "from multiprocessing import Pool\n",
    "sys.path.append('/home/hcleroy/PostDoc/aging_condensates/Simulation/Gillespie/Module_Analysis/')\n",
    "import Pair_Corelation_Function as PCF\n",
    "#import Clustering as Clust\n",
    "sys.path.append('/home/hcleroy/PostDoc/aging_condensates/Simulation/Gillespie/Gillespie_backend')\n",
    "import Gillespie_backend as backend\n",
    "import Simulate_System as SimSys\n",
    "sys.path.append('/home/hcleroy/Extra_Module_py/')\n",
    "import formated_matplotlib"
   ]
  },
  {
   "cell_type": "code",
   "execution_count": 2,
   "metadata": {},
   "outputs": [],
   "source": [
    "# define the unit of the system :\n",
    "dimension = 3\n",
    "\n",
    "L = 1000\n",
    "NLinker = 10\n",
    "\n",
    "Eb = -10.\n",
    "\n",
    "kdiff = 0.000207352*5\n",
    "\n",
    "seed = np.random.randint(0,1000000)"
   ]
  },
  {
   "cell_type": "code",
   "execution_count": 127,
   "metadata": {},
   "outputs": [],
   "source": [
    "def Norm(x_array,y_array):\n",
    "    \"\"\"\"\n",
    "    a function is represented by a y_array and a x_array. this function return the norm 2\n",
    "    \"\"\"\n",
    "    if y_array.__len__() != x_array.__len__():\n",
    "        raise ValueError\n",
    "    return np.sqrt(np.sum(np.array([((x_array[i+1]-x_array[i])*y_array[i])**2 for i in range(x_array.__len__()-1)])))\n",
    "def Concatenate_dists(Syss):\n",
    "    \"\"\"\n",
    "    This function takes a list of replicas, and return a single array with all the distances between linkers\n",
    "    \"\"\"\n",
    "    dists = np.zeros((Syss.__len__(),Syss[0].Nlinker*(Syss[0].Nlinker-1)//2),dtype=float)\n",
    "    # first compute the distance between linkers for each replica:\n",
    "    for n in range(Syss.__len__()):\n",
    "        k=0\n",
    "        for i in range(Syss[n].Nlinker):\n",
    "            for j in range(0,i):\n",
    "                dists[n,k] = np.linalg.norm(Syss[n].get_r()[i]-Syss[n].get_r()[j])\n",
    "                k+=1\n",
    "    #return a concatenate version of all the distances.\n",
    "    return np.concatenate(dists,axis=0)\n",
    "#np.concatenate(np.array([Rs_replica[j][i*dt:(i+1)*dt] for j in range(Nreplica)]),axis=0)\n",
    "def twobody_dist_prob_from_dist(D,bins=100):\n",
    "    \"\"\"\n",
    "    This function takes a list of distance, and compute the probability associated which each distance.\n",
    "    It accounts for the fact that the linkers are in a 3d. Thus the probability of being at a distance\n",
    "    D has to be corrected by the volume of the shell.\n",
    "    \"\"\"\n",
    "    maxD = np.max(D)\n",
    "    ddist = maxD/(bins-1)\n",
    "    def I(dist):\n",
    "        return int(dist/ddist)\n",
    "    def v_shell(dist):\n",
    "        return 4/3*np.pi*((dist+ddist)**3 - dist**3)\n",
    "    X = np.linspace(0,maxD,bins)\n",
    "    PR = np.zeros(bins,dtype=float)\n",
    "    for d in D:\n",
    "        if d!=0:\n",
    "            try:\n",
    "                PR[I(d)] += 1/v_shell(d)*1/(D.shape[0])\n",
    "            except IndexError:\n",
    "                pass\n",
    "    return X,PR\n",
    "\n",
    "def Time_to_reach_equilibrium(ell_tot,rho0,BindingEnergy,kdiff,seed,Nlinker,dimension,compute_step,epsilon,Nreplica):\n",
    "    \"\"\"\n",
    "    This function create a system, and make it evolve. It computes the pair correlation function on the fly every compute_step.\n",
    "    Whenever the norm of the difference of two succesives pair correlation functions is smaller than epsilon : stop the simulation and\n",
    "    return the time.\n",
    "\n",
    "    We have the possibility to use several replica in parallel to compute the pair correlation function. This is especially important\n",
    "    whenever there are very few linkers, or whenever the system is supposed to evolve quickly.\n",
    "    \"\"\"\n",
    "    np.random.seed(seed)\n",
    "    # make an array of Gillespie simulations:\n",
    "    Syss = [backend.Gillespie(  ell_tot=ell_tot,\n",
    "                                rho0=rho0,\n",
    "                                BindingEnergy=BindingEnergy,\n",
    "                                kdiff=kdiff,\n",
    "                                seed = s,\n",
    "                                Nlinker=Nlinker,\n",
    "                                dimension=dimension) for s in np.random.randint(0,100000,Nreplica)]\n",
    "    # initialize the two probability distributions:\n",
    "    D = Concatenate_dists(Syss)\n",
    "    X,g1 = twobody_dist_prob_from_dist(D,bins=100)\n",
    "    g2 = np.zeros(100,dtype=float)\n",
    "    # setup a counter to avoid infinit loop\n",
    "    counter=0\n",
    "    # t is the time of the simulation:\n",
    "    t=0\n",
    "    # the simulation keeps going until the system is equilibrated\n",
    "    while Norm(X,g1-g2)/Norm(X,g1+g2)>epsilon and counter < 100:\n",
    "        # Dists in the concatenation of all the distances between linkers of all the replica for each steps in compute_step.\n",
    "        Dists = []\n",
    "        # make a serie of step between each computation of the two body distrib\n",
    "        for i in range(compute_step):\n",
    "            # time is used to compute the average time of all moves\n",
    "            time = []\n",
    "            for Sys in Syss:\n",
    "                movetype,Dt = Sys.evolve()\n",
    "                time.append(np.sum(Dt))\n",
    "            # add up the average time of the moves to the total time\n",
    "            t += np.mean(time)\n",
    "            # extend the Dists array with the concatenation of the distances between linkers of all replicas\n",
    "            Dists.extend(Concatenate_dists(Syss))\n",
    "        Dists=np.array(Dists)\n",
    "        # keep track of the previous g\n",
    "        g2 = g1\n",
    "        # actualize the new g\n",
    "        X,g1 = twobody_dist_prob_from_dist(Dists,bins=100)\n",
    "        print(Norm(X,g1-g2)/Norm(X,g1+g2))\n",
    "        counter+=1   \n",
    "    plt.plot(X,g1)\n",
    "    plt.plot(X,g2)\n",
    "    return t"
   ]
  },
  {
   "cell_type": "code",
   "execution_count": 128,
   "metadata": {},
   "outputs": [
    {
     "name": "stdout",
     "output_type": "stream",
     "text": [
      "0.48766108712148276\n",
      "0.06555631473751222\n"
     ]
    },
    {
     "data": {
      "image/png": "[encoded data removed]",
      "text/plain": [
       "<Figure size 334.646x251.613 with 1 Axes>"
      ]
     },
     "metadata": {},
     "output_type": "display_data"
    }
   ],
   "source": [
    "time_1 = Time_to_reach_equilibrium(  ell_tot=L,\n",
    "                            rho0=0.,\n",
    "                            BindingEnergy=Eb,\n",
    "                            kdiff=kdiff,\n",
    "                            seed = seed,\n",
    "                            Nlinker=2,\n",
    "                            dimension=dimension,\n",
    "                            compute_step=1000,\n",
    "                            epsilon=0.1,\n",
    "                            Nreplica=1000)"
   ]
  },
  {
   "cell_type": "code",
   "execution_count": 129,
   "metadata": {},
   "outputs": [
    {
     "data": {
      "text/plain": [
       "2684134.6667763805"
      ]
     },
     "execution_count": 129,
     "metadata": {},
     "output_type": "execute_result"
    }
   ],
   "source": [
    "time_1"
   ]
  },
  {
   "cell_type": "code",
   "execution_count": 130,
   "metadata": {},
   "outputs": [
    {
     "name": "stdout",
     "output_type": "stream",
     "text": [
      "0.834210314213744\n",
      "0.4817589312663932\n",
      "0.11640088920051639\n",
      "0.06414503306017516\n"
     ]
    },
    {
     "data": {
      "image/png": "[encoded data removed]",
      "text/plain": [
       "<Figure size 334.646x251.613 with 1 Axes>"
      ]
     },
     "metadata": {},
     "output_type": "display_data"
    }
   ],
   "source": [
    "time_10 = Time_to_reach_equilibrium(  ell_tot=L,\n",
    "                            rho0=0.,\n",
    "                            BindingEnergy=Eb,\n",
    "                            kdiff=kdiff,\n",
    "                            seed = seed,\n",
    "                            Nlinker=10,\n",
    "                            dimension=dimension,\n",
    "                            compute_step=1000,\n",
    "                            epsilon=0.1,\n",
    "                            Nreplica=100)"
   ]
  },
  {
   "cell_type": "code",
   "execution_count": 131,
   "metadata": {},
   "outputs": [
    {
     "data": {
      "text/plain": [
       "2458377.6755077415"
      ]
     },
     "execution_count": 131,
     "metadata": {},
     "output_type": "execute_result"
    }
   ],
   "source": [
    "time_10"
   ]
  },
  {
   "cell_type": "code",
   "execution_count": null,
   "metadata": {},
   "outputs": [],
   "source": []
  }
 ],
 "metadata": {
  "kernelspec": {
   "display_name": "base",
   "language": "python",
   "name": "python3"
  },
  "language_info": {
   "codemirror_mode": {
    "name": "ipython",
    "version": 3
   },
   "file_extension": ".py",
   "mimetype": "text/x-python",
   "name": "python",
   "nbconvert_exporter": "python",
   "pygments_lexer": "ipython3",
   "version": "3.8.8"
  },
  "orig_nbformat": 4
 },
 "nbformat": 4,
 "nbformat_minor": 2
}
