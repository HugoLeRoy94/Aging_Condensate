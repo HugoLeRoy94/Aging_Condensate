{
 "cells": [
  {
   "cell_type": "code",
   "execution_count": 1,
   "metadata": {},
   "outputs": [],
   "source": [
    "import numpy as np\n",
    "import matplotlib.pyplot as plt\n",
    "import sys\n",
    "from tabulate import tabulate\n",
    "from multiprocessing import Pool\n",
    "from scipy.ndimage import uniform_filter1d\n",
    "import matplotlib.colors as mcolors\n",
    "import tqdm.notebook as tqdm\n",
    "\n",
    "# import the C++ module\n",
    "sys.path.append('/home/hcleroy/PostDoc/aging_condensates/Simulation/Gillespie/Gillespie_backend')\n",
    "import Gillespie_backend as backend\n",
    "import Simulate_System as SimSys\n",
    "\n",
    "sys.path.append('/home/hcleroy/PostDoc/aging_condensates/Simulation/super_simple_simulation/')\n",
    "\n",
    "import Super_Simple_System as SSSys\n",
    "import Super_Simple_Stochastic_Matrix as SSSMatrix\n"
   ]
  },
  {
   "cell_type": "code",
   "execution_count": 2,
   "metadata": {},
   "outputs": [],
   "source": [
    "# define the unit of the system :\n",
    "R = 50\n",
    "L = 100\n",
    "Eb = -10.\n",
    "kdiff = 0.000207352\n",
    "size = 100\n",
    "dangling = True"
   ]
  },
  {
   "cell_type": "code",
   "execution_count": 3,
   "metadata": {},
   "outputs": [],
   "source": [
    "Sys = backend.Gillespie(ell_tot=L,rho0=0.,BindingEnergy=Eb,kdiff=kdiff*5,seed = np.random.randint(0,1000000),Nlinker=3,dimension=1)\n",
    "Sys_2 = backend.Gillespie(ell_tot=L,rho0=0.,BindingEnergy=Eb,kdiff=kdiff*5,seed = np.random.randint(0,1000000),Nlinker=10,dimension=1)"
   ]
  },
  {
   "cell_type": "code",
   "execution_count": 4,
   "metadata": {},
   "outputs": [
    {
     "name": "stdout",
     "output_type": "stream",
     "text": [
      "6393\n"
     ]
    },
    {
     "ename": "ValueError",
     "evalue": "wrong number of linkers",
     "output_type": "error",
     "traceback": [
      "\u001b[0;31m---------------------------------------------------------------------------\u001b[0m",
      "\u001b[0;31mValueError\u001b[0m                                Traceback (most recent call last)",
      "Cell \u001b[0;32mIn[4], line 1\u001b[0m\n\u001b[0;32m----> 1\u001b[0m Sys_2\u001b[39m.\u001b[39;49mevolve(\u001b[39m10\u001b[39;49m\u001b[39m*\u001b[39;49m\u001b[39m*\u001b[39;49m\u001b[39m6\u001b[39;49m)\n",
      "File \u001b[0;32m~/PostDoc/aging_condensates/Simulation/Gillespie/Gillespie_backend/Gillespie_backend.py:77\u001b[0m, in \u001b[0;36mGillespie.evolve\u001b[0;34m(self, steps)\u001b[0m\n\u001b[1;32m     75\u001b[0m         \u001b[39mif\u001b[39;00m \u001b[39mself\u001b[39m\u001b[39m.\u001b[39mget_r()\u001b[39m.\u001b[39mshape[\u001b[39m0\u001b[39m] \u001b[39m!=\u001b[39m \u001b[39mself\u001b[39m\u001b[39m.\u001b[39mNlinker:\n\u001b[1;32m     76\u001b[0m             \u001b[39mprint\u001b[39m(dt)\n\u001b[0;32m---> 77\u001b[0m             \u001b[39mraise\u001b[39;00m \u001b[39mValueError\u001b[39;00m(\u001b[39m'\u001b[39m\u001b[39mwrong number of linkers\u001b[39m\u001b[39m'\u001b[39m)\n\u001b[1;32m     78\u001b[0m     \u001b[39mreturn\u001b[39;00m binds,time\n\u001b[1;32m     79\u001b[0m \u001b[39melse\u001b[39;00m:\n",
      "\u001b[0;31mValueError\u001b[0m: wrong number of linkers"
     ]
    }
   ],
   "source": [
    "Sys_2.evolve(10**6)"
   ]
  },
  {
   "cell_type": "code",
   "execution_count": 4,
   "metadata": {},
   "outputs": [],
   "source": [
    "Sim = SimSys.Simulation(step_tot = 10**6,size=100,L_size=100,Gillespie = Sys)\n",
    "Sim.simulate_eq_distribution()"
   ]
  },
  {
   "cell_type": "code",
   "execution_count": 4,
   "metadata": {},
   "outputs": [
    {
     "name": "stdout",
     "output_type": "stream",
     "text": [
      "[[-1.40489824  0.          0.        ]\n",
      " [-1.33343435  0.          0.        ]\n",
      " [-1.32847618  0.          0.        ]\n",
      " [-0.60856465  0.          0.        ]\n",
      " [-0.58749717  0.          0.        ]\n",
      " [-0.31081597  0.          0.        ]\n",
      " [ 0.          0.          0.        ]\n",
      " [ 0.39316409  0.          0.        ]\n",
      " [ 0.48090003  0.          0.        ]]\n",
      "\n",
      "[[-1.40489824  0.          0.        ]\n",
      " [-1.33343435  0.          0.        ]\n",
      " [-1.32847618  0.          0.        ]\n",
      " [-0.60856465  0.          0.        ]\n",
      " [-0.58749717  0.          0.        ]\n",
      " [-0.31081597  0.          0.        ]\n",
      " [ 0.39316409  0.          0.        ]\n",
      " [ 0.48090003  0.          0.        ]]\n"
     ]
    },
    {
     "ename": "ValueError",
     "evalue": "could not broadcast input array from shape (8,3) into shape (9,3)",
     "output_type": "error",
     "traceback": [
      "\u001b[0;31m---------------------------------------------------------------------------\u001b[0m",
      "\u001b[0;31mValueError\u001b[0m                                Traceback (most recent call last)",
      "Cell \u001b[0;32mIn[4], line 2\u001b[0m\n\u001b[1;32m      1\u001b[0m Sim_2 \u001b[39m=\u001b[39m SimSys\u001b[39m.\u001b[39mSimulation(step_tot \u001b[39m=\u001b[39m \u001b[39m10\u001b[39m\u001b[39m*\u001b[39m\u001b[39m*\u001b[39m\u001b[39m6\u001b[39m,size\u001b[39m=\u001b[39m\u001b[39m100\u001b[39m,L_size\u001b[39m=\u001b[39m\u001b[39m100\u001b[39m,Gillespie \u001b[39m=\u001b[39m Sys_2)\n\u001b[0;32m----> 2\u001b[0m Sim_2\u001b[39m.\u001b[39;49msimulate_eq_distribution()\n",
      "File \u001b[0;32m~/PostDoc/aging_condensates/Simulation/Gillespie/Fixed_number_of_linkers/Simulate_System.py:79\u001b[0m, in \u001b[0;36mSimulation.simulate_eq_distribution\u001b[0;34m(self)\u001b[0m\n\u001b[1;32m     77\u001b[0m     \u001b[39mraise\u001b[39;00m \u001b[39mValueError\u001b[39;00m\n\u001b[1;32m     78\u001b[0m \u001b[39mtry\u001b[39;00m:\n\u001b[0;32m---> 79\u001b[0m     \u001b[39mself\u001b[39m\u001b[39m.\u001b[39mR[i] \u001b[39m=\u001b[39m \u001b[39mself\u001b[39m\u001b[39m.\u001b[39mprev_R\u001b[39m#np.linalg.norm(get_non_zero(self.Gillespie.get_r()))\u001b[39;00m\n\u001b[1;32m     80\u001b[0m \u001b[39mexcept\u001b[39;00m \u001b[39mValueError\u001b[39;00m:\n\u001b[1;32m     81\u001b[0m     \u001b[39mprint\u001b[39m(\u001b[39mself\u001b[39m\u001b[39m.\u001b[39mGillespie\u001b[39m.\u001b[39mget_r())\n",
      "\u001b[0;31mValueError\u001b[0m: could not broadcast input array from shape (8,3) into shape (9,3)"
     ]
    }
   ],
   "source": [
    "Sim_2 = SimSys.Simulation(step_tot = 10**6,size=100,L_size=100,Gillespie = Sys_2)\n",
    "Sim_2.simulate_eq_distribution()"
   ]
  },
  {
   "cell_type": "code",
   "execution_count": 18,
   "metadata": {},
   "outputs": [],
   "source": [
    "def make_2D_statistics(R,bins=100):\n",
    "    #bins=100\n",
    "    maxR = np.max(R)\n",
    "    if R.shape[1] != 2 :\n",
    "        print('The shape of the array does not match the function, expected (N,2) : 2 linkers ')\n",
    "    def I(r):\n",
    "        return int(r/maxR*(bins-1))\n",
    "    X,Y = np.linspace(0,maxR,bins),np.linspace(0,maxR,bins)\n",
    "    X,Y = np.meshgrid(X,Y)\n",
    "    PR2D = np.zeros((bins,bins),dtype=float)\n",
    "    for r in tqdm.tqdm(R):\n",
    "        PR2D[I(np.linalg.norm(r[0])),I(np.linalg.norm(r[1]))] += 1/R.shape[0]\n",
    "    return X,Y,PR2D\n",
    "def compute_2_body_dist_prob(R,bins=100):\n",
    "    maxR = np.max(R)\n",
    "    ddist = maxR/(bins-1)\n",
    "    if R.shape[1] != 2 :\n",
    "        print('The shape of the array does not match the function, expected (N,2) : 2 linkers ')\n",
    "    def I(dist):\n",
    "        return int(dist/ddist)\n",
    "    def v_shell(dist):\n",
    "        return 4/3*np.pi*((dist+ddist)**3 - dist**3)\n",
    "    X = np.linspace(0,maxR,bins,endpoint=False)\n",
    "    PR = np.zeros(bins,dtype=float)\n",
    "    for r in R:\n",
    "        for r1,r2 in zip(r[:1],r[1:]):\n",
    "            if any(r1!=r2):\n",
    "                PR[I(np.linalg.norm(r1-r2))] +=1/v_shell(np.linalg.norm(r1-r2))*1/(R.shape[0]*R.shape[1])\n",
    "    return X,PR"
   ]
  },
  {
   "cell_type": "code",
   "execution_count": 7,
   "metadata": {},
   "outputs": [
    {
     "data": {
      "application/vnd.jupyter.widget-view+json": {
       "model_id": "04eeaa8c60254b2dbd3d03326b4e9f0f",
       "version_major": 2,
       "version_minor": 0
      },
      "text/plain": [
       "  0%|          | 0/1000000 [00:00<?, ?it/s]"
      ]
     },
     "metadata": {},
     "output_type": "display_data"
    }
   ],
   "source": [
    "#with Pool(10) as p:\n",
    "#    res = p.map(make_2D_statistics,np.array([Sim.R[i*Sim.R.shape[0]//10:(i+1)*Sim.R.shape[0]//10] for i in range(10)]))\n",
    "X,Y,Z = make_2D_statistics(Sim.R)"
   ]
  },
  {
   "cell_type": "code",
   "execution_count": 9,
   "metadata": {},
   "outputs": [
    {
     "data": {
      "image/png": "[encoded data removed]",
      "text/plain": [
       "<Figure size 576x360 with 2 Axes>"
      ]
     },
     "metadata": {
      "needs_background": "light"
     },
     "output_type": "display_data"
    }
   ],
   "source": [
    "fig,ax = plt.subplots(figsize=(8,5))\n",
    "psm = ax.pcolormesh(X,Y,Z,norm=mcolors.LogNorm())\n",
    "ax.set_xlabel('Position of the linker 1')\n",
    "ax.set_ylabel('Position of the linker 2')\n",
    "ax.set_title('probability distribution of the two linker position')\n",
    "cba = plt.colorbar(psm)"
   ]
  },
  {
   "cell_type": "code",
   "execution_count": null,
   "metadata": {},
   "outputs": [],
   "source": [
    "X,Y = compute_2_body_dist_prob(Sim.R)\n",
    "X2,Y2 = compute_2_body_dist_prob(Sim_2.R)"
   ]
  },
  {
   "cell_type": "code",
   "execution_count": null,
   "metadata": {},
   "outputs": [
    {
     "data": {
      "image/png": "[encoded data removed]",
      "text/plain": [
       "<Figure size 432x288 with 1 Axes>"
      ]
     },
     "metadata": {
      "needs_background": "light"
     },
     "output_type": "display_data"
    }
   ],
   "source": [
    "plt.plot(X,Y)\n",
    "plt.plot(X2,Y2)\n",
    "plt.yscale('log')"
   ]
  },
  {
   "cell_type": "code",
   "execution_count": null,
   "metadata": {},
   "outputs": [],
   "source": []
  }
 ],
 "metadata": {
  "kernelspec": {
   "display_name": "base",
   "language": "python",
   "name": "python3"
  },
  "language_info": {
   "codemirror_mode": {
    "name": "ipython",
    "version": 3
   },
   "file_extension": ".py",
   "mimetype": "text/x-python",
   "name": "python",
   "nbconvert_exporter": "python",
   "pygments_lexer": "ipython3",
   "version": "3.8.8"
  },
  "orig_nbformat": 4,
  "vscode": {
   "interpreter": {
    "hash": "1d5eeb8876f044179b361bcddd340056e6c77a1f8539f3472ec98ae68ef2c035"
   }
  }
 },
 "nbformat": 4,
 "nbformat_minor": 2
}
