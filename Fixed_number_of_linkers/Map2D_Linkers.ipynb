{
 "cells": [
  {
   "cell_type": "code",
   "execution_count": 12,
   "metadata": {},
   "outputs": [],
   "source": [
    "import numpy as np\n",
    "import matplotlib.pyplot as plt\n",
    "import sys\n",
    "from tabulate import tabulate\n",
    "from multiprocessing import Pool\n",
    "from scipy.ndimage import uniform_filter1d\n",
    "import matplotlib.colors as mcolors\n",
    "import tqdm.notebook as tqdm\n",
    "\n",
    "# import the C++ module\n",
    "sys.path.append('/home/hcleroy/PostDoc/aging_condensates/Simulation/Gillespie/System_backend')\n",
    "import System_backend as backend\n",
    "import Simulate_System as SimSys\n",
    "\n",
    "sys.path.append('/home/hcleroy/PostDoc/aging_condensates/Simulation/super_simple_simulation/')\n",
    "\n",
    "import Super_Simple_System as SSSys\n",
    "import Super_Simple_Stochastic_Matrix as SSSMatrix\n"
   ]
  },
  {
   "cell_type": "code",
   "execution_count": 2,
   "metadata": {},
   "outputs": [],
   "source": [
    "# define the unit of the system :\n",
    "R = 50\n",
    "L = 100\n",
    "Eb = -10.\n",
    "kdiff = 0.000207352\n",
    "size = 100\n",
    "dangling = True"
   ]
  },
  {
   "cell_type": "code",
   "execution_count": 3,
   "metadata": {},
   "outputs": [],
   "source": [
    "Sys = backend.System(ell_tot=L,rho0=0.,BindingEnergy=Eb,kdiff=kdiff*5,seed = np.random.randint(0,1000000),Nlinker=3,dimension=1)"
   ]
  },
  {
   "cell_type": "code",
   "execution_count": 4,
   "metadata": {},
   "outputs": [],
   "source": [
    "Sim = SimSys.Simulation(step_tot = 10**6,size=100,L_size=100,System = Sys)\n",
    "Sim.simulate_eq_distribution()"
   ]
  },
  {
   "cell_type": "code",
   "execution_count": 8,
   "metadata": {},
   "outputs": [
    {
     "data": {
      "text/plain": [
       "12.618031747915749"
      ]
     },
     "execution_count": 8,
     "metadata": {},
     "output_type": "execute_result"
    }
   ],
   "source": [
    "np.max(Sim.R)"
   ]
  },
  {
   "cell_type": "code",
   "execution_count": 13,
   "metadata": {},
   "outputs": [],
   "source": [
    "def make_2D_statistics(R,bins=100):\n",
    "    if R.shape[1] != 2 :\n",
    "        print('The shape of the array does not match the function, expected (N,2) : 2 linkers ')\n",
    "    def I(r):\n",
    "        return int(r/np.max(R)*(bins-1))\n",
    "    X,Y = np.linspace(0,np.max(R),bins),np.linspace(0,np.max(R),bins)\n",
    "    X,Y = np.meshgrid(X,Y)\n",
    "    PR2D = np.zeros((bins,bins),dtype=float)\n",
    "    for r in tqdm.tqdm(R):\n",
    "        PR2D[I(r[0]),I(r[1])] += 1/R.shape[0]\n",
    "    return X,Y,PR2D"
   ]
  },
  {
   "cell_type": "code",
   "execution_count": 14,
   "metadata": {},
   "outputs": [
    {
     "data": {
      "application/vnd.jupyter.widget-view+json": {
       "model_id": "91be86f1105b42a18ba0fd03f21d18da",
       "version_major": 2,
       "version_minor": 0
      },
      "text/plain": [
       "  0%|          | 0/1000000 [00:00<?, ?it/s]"
      ]
     },
     "metadata": {},
     "output_type": "display_data"
    },
    {
     "ename": "IndexError",
     "evalue": "index 100 is out of bounds for axis 0 with size 100",
     "output_type": "error",
     "traceback": [
      "\u001b[0;31m---------------------------------------------------------------------------\u001b[0m",
      "\u001b[0;31mIndexError\u001b[0m                                Traceback (most recent call last)",
      "Cell \u001b[0;32mIn[14], line 1\u001b[0m\n\u001b[0;32m----> 1\u001b[0m X,Y,Z \u001b[39m=\u001b[39m make_2D_statistics(Sim\u001b[39m.\u001b[39;49mR)\n",
      "Cell \u001b[0;32mIn[13], line 10\u001b[0m, in \u001b[0;36mmake_2D_statistics\u001b[0;34m(R, bins)\u001b[0m\n\u001b[1;32m      8\u001b[0m PR2D \u001b[39m=\u001b[39m np\u001b[39m.\u001b[39mzeros((bins,bins),dtype\u001b[39m=\u001b[39m\u001b[39mfloat\u001b[39m)\n\u001b[1;32m      9\u001b[0m \u001b[39mfor\u001b[39;00m r \u001b[39min\u001b[39;00m tqdm\u001b[39m.\u001b[39mtqdm(R):\n\u001b[0;32m---> 10\u001b[0m     PR2D[I(r[\u001b[39m0\u001b[39m]),I(r[\u001b[39m1\u001b[39m])] \u001b[39m+\u001b[39m\u001b[39m=\u001b[39m \u001b[39m1\u001b[39m\u001b[39m/\u001b[39mR\u001b[39m.\u001b[39mshape[\u001b[39m0\u001b[39m]\n\u001b[1;32m     11\u001b[0m \u001b[39mreturn\u001b[39;00m X,Y,PR2D\n",
      "\u001b[0;31mIndexError\u001b[0m: index 100 is out of bounds for axis 0 with size 100"
     ]
    }
   ],
   "source": [
    "X,Y,Z = make_2D_statistics(Sim.R)"
   ]
  },
  {
   "cell_type": "code",
   "execution_count": null,
   "metadata": {},
   "outputs": [],
   "source": [
    "fig,ax = plt.subplots(figsize=(8,5))\n",
    "ax.pcolormesh(X,Y,Z,norm=mcolors.LogNorm())"
   ]
  }
 ],
 "metadata": {
  "kernelspec": {
   "display_name": "base",
   "language": "python",
   "name": "python3"
  },
  "language_info": {
   "codemirror_mode": {
    "name": "ipython",
    "version": 3
   },
   "file_extension": ".py",
   "mimetype": "text/x-python",
   "name": "python",
   "nbconvert_exporter": "python",
   "pygments_lexer": "ipython3",
   "version": "3.8.8"
  },
  "orig_nbformat": 4,
  "vscode": {
   "interpreter": {
    "hash": "1d5eeb8876f044179b361bcddd340056e6c77a1f8539f3472ec98ae68ef2c035"
   }
  }
 },
 "nbformat": 4,
 "nbformat_minor": 2
}
